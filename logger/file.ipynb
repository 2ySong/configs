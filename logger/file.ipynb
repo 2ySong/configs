{
 "cells": [
  {
   "cell_type": "code",
   "execution_count": 2,
   "metadata": {},
   "outputs": [],
   "source": [
    "!find /data/songzy/workshop/project2/CSIP_baseline/logs/nlos30-GRUNet -type f -name \"*.ckpt\" -delete\n"
   ]
  },
  {
   "cell_type": "code",
   "execution_count": 13,
   "metadata": {},
   "outputs": [
    {
     "name": "stdout",
     "output_type": "stream",
     "text": [
      "/data/songzy/workshop/project/TSFLib/configs/model/mlp/LightTS.yaml\n",
      "已处理文件: /data/songzy/workshop/project/TSFLib/configs/model/mlp/LightTS.yaml\n",
      "/data/songzy/workshop/project/TSFLib/configs/model/mlp/RLinear.yaml\n",
      "已处理文件: /data/songzy/workshop/project/TSFLib/configs/model/mlp/RLinear.yaml\n",
      "/data/songzy/workshop/project/TSFLib/configs/model/mlp/DLinear.yaml\n",
      "已处理文件: /data/songzy/workshop/project/TSFLib/configs/model/mlp/DLinear.yaml\n",
      "/data/songzy/workshop/project/TSFLib/configs/model/mlp/CycleNet.yaml\n",
      "已处理文件: /data/songzy/workshop/project/TSFLib/configs/model/mlp/CycleNet.yaml\n",
      "/data/songzy/workshop/project/TSFLib/configs/model/mlp/NLinear.yaml\n",
      "已处理文件: /data/songzy/workshop/project/TSFLib/configs/model/mlp/NLinear.yaml\n",
      "/data/songzy/workshop/project/TSFLib/configs/model/mlp/SparseTSF.yaml\n",
      "已处理文件: /data/songzy/workshop/project/TSFLib/configs/model/mlp/SparseTSF.yaml\n",
      "/data/songzy/workshop/project/TSFLib/configs/model/mlp/Koopa.yaml\n",
      "已处理文件: /data/songzy/workshop/project/TSFLib/configs/model/mlp/Koopa.yaml\n",
      "/data/songzy/workshop/project/TSFLib/configs/model/mlp/LDLinear.yaml\n",
      "已处理文件: /data/songzy/workshop/project/TSFLib/configs/model/mlp/LDLinear.yaml\n",
      "/data/songzy/workshop/project/TSFLib/configs/model/mlp/RMLP.yaml\n",
      "已处理文件: /data/songzy/workshop/project/TSFLib/configs/model/mlp/RMLP.yaml\n",
      "/data/songzy/workshop/project/TSFLib/configs/model/mlp/Linear.yaml\n",
      "已处理文件: /data/songzy/workshop/project/TSFLib/configs/model/mlp/Linear.yaml\n"
     ]
    }
   ],
   "source": [
    "import os\n",
    "import glob\n",
    "\n",
    "# 定义要删除的字符串\n",
    "string_to_remove = \"use_revin: ${forecast.use_revin}\"\n",
    "\n",
    "# 获取所有 YAML 文件的路径\n",
    "yaml_files = glob.glob(\"/data/songzy/workshop/project/TSFLib/configs/model/rnn/*.yaml\")  # 你可以根据需要更改路径和模式\n",
    "\n",
    "for file_path in yaml_files:\n",
    "    print(file_path)\n",
    "    # 读取 YAML 文件\n",
    "    with open(file_path, \"r\", encoding=\"utf-8\") as file:\n",
    "        content = file.read()\n",
    "\n",
    "    # 删除指定字符串\n",
    "    new_content = content.replace(string_to_remove, \"\")\n",
    "\n",
    "    # 将修改后的内容写回文件\n",
    "    with open(file_path, \"w\", encoding=\"utf-8\") as file:\n",
    "        file.write(new_content)\n",
    "\n",
    "    print(f\"已处理文件: {file_path}\")"
   ]
  },
  {
   "cell_type": "code",
   "execution_count": 2,
   "metadata": {},
   "outputs": [],
   "source": [
    "import pandas as pd"
   ]
  },
  {
   "cell_type": "code",
   "execution_count": 3,
   "metadata": {},
   "outputs": [],
   "source": [
    "df = pd.read_csv('/data/songzy/workshop/data/time_series/ETT-small/ETTh1.csv', parse_dates=['date'])"
   ]
  },
  {
   "cell_type": "code",
   "execution_count": null,
   "metadata": {},
   "outputs": [],
   "source": [
    "df"
   ]
  },
  {
   "cell_type": "code",
   "execution_count": 5,
   "metadata": {},
   "outputs": [],
   "source": [
    "import pygwalker as pyg"
   ]
  },
  {
   "cell_type": "code",
   "execution_count": null,
   "metadata": {},
   "outputs": [],
   "source": [
    "pyg.walk(df)"
   ]
  },
  {
   "cell_type": "code",
   "execution_count": null,
   "metadata": {},
   "outputs": [],
   "source": []
  }
 ],
 "metadata": {
  "kernelspec": {
   "display_name": ".venv",
   "language": "python",
   "name": "python3"
  },
  "language_info": {
   "codemirror_mode": {
    "name": "ipython",
    "version": 3
   },
   "file_extension": ".py",
   "mimetype": "text/x-python",
   "name": "python",
   "nbconvert_exporter": "python",
   "pygments_lexer": "ipython3",
   "version": "3.12.0"
  }
 },
 "nbformat": 4,
 "nbformat_minor": 2
}
